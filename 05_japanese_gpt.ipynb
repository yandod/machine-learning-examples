{
  "nbformat": 4,
  "nbformat_minor": 0,
  "metadata": {
    "colab": {
      "provenance": [],
      "authorship_tag": "ABX9TyOwQ6nOTM+hB/+2MIm8LeCS",
      "include_colab_link": true
    },
    "kernelspec": {
      "name": "python3",
      "display_name": "Python 3"
    },
    "language_info": {
      "name": "python"
    }
  },
  "cells": [
    {
      "cell_type": "markdown",
      "metadata": {
        "id": "view-in-github",
        "colab_type": "text"
      },
      "source": [
        "<a href=\"https://colab.research.google.com/github/yandod/machine-learning-examples/blob/main/05_japanese_gpt.ipynb\" target=\"_parent\"><img src=\"https://colab.research.google.com/assets/colab-badge.svg\" alt=\"Open In Colab\"/></a>"
      ]
    },
    {
      "cell_type": "code",
      "execution_count": 45,
      "metadata": {
        "colab": {
          "base_uri": "https://localhost:8080/"
        },
        "id": "AHvTzO1qx11P",
        "outputId": "e15af9cb-4c5b-472e-8216-631eb34396cf"
      },
      "outputs": [
        {
          "output_type": "stream",
          "name": "stdout",
          "text": [
            "Looking in indexes: https://pypi.org/simple, https://us-python.pkg.dev/colab-wheels/public/simple/\n",
            "Requirement already satisfied: transformers in /usr/local/lib/python3.9/dist-packages (4.28.1)\n",
            "Requirement already satisfied: regex!=2019.12.17 in /usr/local/lib/python3.9/dist-packages (from transformers) (2022.10.31)\n",
            "Requirement already satisfied: packaging>=20.0 in /usr/local/lib/python3.9/dist-packages (from transformers) (23.1)\n",
            "Requirement already satisfied: numpy>=1.17 in /usr/local/lib/python3.9/dist-packages (from transformers) (1.22.4)\n",
            "Requirement already satisfied: pyyaml>=5.1 in /usr/local/lib/python3.9/dist-packages (from transformers) (6.0)\n",
            "Requirement already satisfied: huggingface-hub<1.0,>=0.11.0 in /usr/local/lib/python3.9/dist-packages (from transformers) (0.13.4)\n",
            "Requirement already satisfied: tokenizers!=0.11.3,<0.14,>=0.11.1 in /usr/local/lib/python3.9/dist-packages (from transformers) (0.13.3)\n",
            "Requirement already satisfied: tqdm>=4.27 in /usr/local/lib/python3.9/dist-packages (from transformers) (4.65.0)\n",
            "Requirement already satisfied: requests in /usr/local/lib/python3.9/dist-packages (from transformers) (2.27.1)\n",
            "Requirement already satisfied: filelock in /usr/local/lib/python3.9/dist-packages (from transformers) (3.11.0)\n",
            "Requirement already satisfied: typing-extensions>=3.7.4.3 in /usr/local/lib/python3.9/dist-packages (from huggingface-hub<1.0,>=0.11.0->transformers) (4.5.0)\n",
            "Requirement already satisfied: charset-normalizer~=2.0.0 in /usr/local/lib/python3.9/dist-packages (from requests->transformers) (2.0.12)\n",
            "Requirement already satisfied: idna<4,>=2.5 in /usr/local/lib/python3.9/dist-packages (from requests->transformers) (3.4)\n",
            "Requirement already satisfied: certifi>=2017.4.17 in /usr/local/lib/python3.9/dist-packages (from requests->transformers) (2022.12.7)\n",
            "Requirement already satisfied: urllib3<1.27,>=1.21.1 in /usr/local/lib/python3.9/dist-packages (from requests->transformers) (1.26.15)\n",
            "Looking in indexes: https://pypi.org/simple, https://us-python.pkg.dev/colab-wheels/public/simple/\n",
            "Requirement already satisfied: sentencepiece in /usr/local/lib/python3.9/dist-packages (0.1.98)\n"
          ]
        }
      ],
      "source": [
        "!pip install transformers\n",
        "!pip install sentencepiece\n",
        "import torch\n",
        "from transformers import AutoTokenizer, AutoModelForCausalLM"
      ]
    },
    {
      "cell_type": "code",
      "source": [
        "#@title GPT2モデルの設定\n",
        "target = \"gpt2\" #@param [\"rinna/japanese-gpt2-xsmall\",\"rinna/japanese-gpt2-small\",\"rinna/japanese-gpt2-medium\", \"rinna/japanese-gpt-1b\",\"gpt2\",\"gpt2-medium\",\"gpt2-large\"]\n",
        "\n",
        "tokenizer = AutoTokenizer.from_pretrained(target)\n",
        "tokenizer.do_lower_case = True\n",
        "\n",
        "model = AutoModelForCausalLM.from_pretrained(target)\n",
        "\n",
        "if torch.cuda.is_available():\n",
        "    model = model.to(\"cuda\")"
      ],
      "metadata": {
        "id": "DUMqEPsr-Jpq"
      },
      "execution_count": 46,
      "outputs": []
    },
    {
      "cell_type": "code",
      "source": [
        "#@title トークン化のデモ\n",
        "text = \"\\u30D7\\u30EA\\u30F3\\u306F\\u7F8E\\u5473\\u3057\\u3044\"#@param{type:\"string\"}\n",
        "tokenizer.encode(text)"
      ],
      "metadata": {
        "id": "XCDAfInxiIx3",
        "colab": {
          "base_uri": "https://localhost:8080/"
        },
        "outputId": "83bf1700-bd12-4bb6-aced-748ddfbe72db"
      },
      "execution_count": 47,
      "outputs": [
        {
          "output_type": "execute_result",
          "data": {
            "text/plain": [
              "[30965, 12675, 6527, 31676, 163, 122, 236, 37772, 111, 22180, 18566]"
            ]
          },
          "metadata": {},
          "execution_count": 47
        }
      ]
    },
    {
      "cell_type": "markdown",
      "source": [],
      "metadata": {
        "id": "d5sBenfxbyUp"
      }
    },
    {
      "cell_type": "code",
      "source": [
        "#@title 入力されたテキストに対する推論の実行\n",
        "\n",
        "prompt = \"\\u4EBA\\u5DE5\\u77E5\\u80FD\\u306B\\u3088\\u308B\\u7C21\\u6F54\\u306A\\u56DE\\u7B54\\\\r\\\\n\" #@param {type:\"string\"}\n",
        "question = \"\\u65E5\\u672C\\u3067\\u4E00\\u756A\\u9AD8\\u3044\\u4EBA\\u5DE5\\u306E\\u5EFA\\u9020\\u7269\\u306F\\u3001\"#@param {type:\"string\"}\n",
        "\n",
        "temperature = 0.5 #@param {type:\"slider\", min:0.01, max:1, step:0.01}\n",
        "\n",
        "text = prompt + question\n",
        "input_ids = tokenizer.encode(text, add_special_tokens=False, return_tensors=\"pt\")\n",
        "length = 100\n",
        "\n",
        "with torch.no_grad():\n",
        "    output_ids = model.generate(\n",
        "        input_ids=input_ids,\n",
        "        max_length=length + len(input_ids[0]),\n",
        "        pad_token_id=tokenizer.eos_token_id,\n",
        "        do_sample=True,\n",
        "        top_k=10,\n",
        "        top_p=0.95,\n",
        "        temperature=temperature,\n",
        "        num_return_sequences=1,\n",
        "    )\n",
        "\n",
        "output = tokenizer.decode(output_ids.tolist()[0])\n",
        "\n",
        "output\n"
      ],
      "metadata": {
        "colab": {
          "base_uri": "https://localhost:8080/",
          "height": 35
        },
        "id": "qQHDEQIhyV7U",
        "outputId": "49e4c755-b6a1-4935-fdae-4b0e923658a1"
      },
      "execution_count": 48,
      "outputs": [
        {
          "output_type": "execute_result",
          "data": {
            "text/plain": [
              "'人工知能による簡潔な回答\\\\r\\\\n日本で一番高い人工の建造物は、破壊になる簡潔な回答\\\\r\\\\n日本で一番高い人工の建造物は、破壊になる簡潔な回答\\\\r\\\\n日本で一番高い人工の建造物は、破壊になる'"
            ],
            "application/vnd.google.colaboratory.intrinsic+json": {
              "type": "string"
            }
          },
          "metadata": {},
          "execution_count": 48
        }
      ]
    },
    {
      "cell_type": "code",
      "source": [
        "#@title 出力されたIDの確認\n",
        "output_ids"
      ],
      "metadata": {
        "colab": {
          "base_uri": "https://localhost:8080/"
        },
        "id": "DYDdHJF6CIFz",
        "outputId": "b4640a98-bc0f-492f-e607-4271701c969a"
      },
      "execution_count": 49,
      "outputs": [
        {
          "output_type": "execute_result",
          "data": {
            "text/plain": [
              "tensor([[21689, 32432,    98,   163,   253,    98, 47797,   121, 28618,  1792,\n",
              "           230, 25748,   163,   108,    94,   162,   121,   242, 26945, 32368,\n",
              "           252,   163, 18433,    59,    81,    59,    77, 33768,    98, 17312,\n",
              "           105, 30640, 31660, 45911,   103,   165, 45865, 18566, 21689, 32432,\n",
              "            98, 15474,   119,   118, 34460,   254, 31965,   102, 31676, 23513,\n",
              "           163,   254,   112, 18004,   232, 28618, 26945, 25748,   163,   108,\n",
              "            94,   162,   121,   242, 26945, 32368,   252,   163, 18433,    59,\n",
              "            81,    59,    77, 33768,    98, 17312,   105, 30640, 31660, 45911,\n",
              "           103,   165, 45865, 18566, 21689, 32432,    98, 15474,   119,   118,\n",
              "         34460,   254, 31965,   102, 31676, 23513,   163,   254,   112, 18004,\n",
              "           232, 28618, 26945, 25748,   163,   108,    94,   162,   121,   242,\n",
              "         26945, 32368,   252,   163, 18433,    59,    81,    59,    77, 33768,\n",
              "            98, 17312,   105, 30640, 31660, 45911,   103,   165, 45865, 18566,\n",
              "         21689, 32432,    98, 15474,   119,   118, 34460,   254, 31965,   102,\n",
              "         31676, 23513,   163,   254,   112, 18004,   232, 28618, 26945, 25748]])"
            ]
          },
          "metadata": {},
          "execution_count": 49
        }
      ]
    }
  ]
}