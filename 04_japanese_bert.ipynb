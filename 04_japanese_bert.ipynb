{
  "nbformat": 4,
  "nbformat_minor": 0,
  "metadata": {
    "colab": {
      "provenance": [],
      "toc_visible": true,
      "authorship_tag": "ABX9TyM4j1QV7SNiO4WthERCeU29",
      "include_colab_link": true
    },
    "kernelspec": {
      "name": "python3",
      "display_name": "Python 3"
    },
    "language_info": {
      "name": "python"
    }
  },
  "cells": [
    {
      "cell_type": "markdown",
      "metadata": {
        "id": "view-in-github",
        "colab_type": "text"
      },
      "source": [
        "<a href=\"https://colab.research.google.com/github/yandod/machine-learning-examples/blob/main/04_japanese_bert.ipynb\" target=\"_parent\"><img src=\"https://colab.research.google.com/assets/colab-badge.svg\" alt=\"Open In Colab\"/></a>"
      ]
    },
    {
      "cell_type": "code",
      "execution_count": 27,
      "metadata": {
        "colab": {
          "base_uri": "https://localhost:8080/"
        },
        "id": "X-8cbDNTKz-E",
        "outputId": "72924e72-30ed-4b01-c23b-d71e3ac4316d"
      },
      "outputs": [
        {
          "output_type": "stream",
          "name": "stdout",
          "text": [
            "Looking in indexes: https://pypi.org/simple, https://us-python.pkg.dev/colab-wheels/public/simple/\n",
            "Requirement already satisfied: torch in /usr/local/lib/python3.9/dist-packages (2.0.0+cu118)\n",
            "Requirement already satisfied: torchvision in /usr/local/lib/python3.9/dist-packages (0.15.1+cu118)\n",
            "Requirement already satisfied: filelock in /usr/local/lib/python3.9/dist-packages (from torch) (3.11.0)\n",
            "Requirement already satisfied: typing-extensions in /usr/local/lib/python3.9/dist-packages (from torch) (4.5.0)\n",
            "Requirement already satisfied: networkx in /usr/local/lib/python3.9/dist-packages (from torch) (3.1)\n",
            "Requirement already satisfied: jinja2 in /usr/local/lib/python3.9/dist-packages (from torch) (3.1.2)\n",
            "Requirement already satisfied: sympy in /usr/local/lib/python3.9/dist-packages (from torch) (1.11.1)\n",
            "Requirement already satisfied: triton==2.0.0 in /usr/local/lib/python3.9/dist-packages (from torch) (2.0.0)\n",
            "Requirement already satisfied: cmake in /usr/local/lib/python3.9/dist-packages (from triton==2.0.0->torch) (3.25.2)\n",
            "Requirement already satisfied: lit in /usr/local/lib/python3.9/dist-packages (from triton==2.0.0->torch) (16.0.1)\n",
            "Requirement already satisfied: requests in /usr/local/lib/python3.9/dist-packages (from torchvision) (2.27.1)\n",
            "Requirement already satisfied: pillow!=8.3.*,>=5.3.0 in /usr/local/lib/python3.9/dist-packages (from torchvision) (8.4.0)\n",
            "Requirement already satisfied: numpy in /usr/local/lib/python3.9/dist-packages (from torchvision) (1.22.4)\n",
            "Requirement already satisfied: MarkupSafe>=2.0 in /usr/local/lib/python3.9/dist-packages (from jinja2->torch) (2.1.2)\n",
            "Requirement already satisfied: certifi>=2017.4.17 in /usr/local/lib/python3.9/dist-packages (from requests->torchvision) (2022.12.7)\n",
            "Requirement already satisfied: idna<4,>=2.5 in /usr/local/lib/python3.9/dist-packages (from requests->torchvision) (3.4)\n",
            "Requirement already satisfied: urllib3<1.27,>=1.21.1 in /usr/local/lib/python3.9/dist-packages (from requests->torchvision) (1.26.15)\n",
            "Requirement already satisfied: charset-normalizer~=2.0.0 in /usr/local/lib/python3.9/dist-packages (from requests->torchvision) (2.0.12)\n",
            "Requirement already satisfied: mpmath>=0.19 in /usr/local/lib/python3.9/dist-packages (from sympy->torch) (1.3.0)\n",
            "Looking in indexes: https://pypi.org/simple, https://us-python.pkg.dev/colab-wheels/public/simple/\n",
            "Requirement already satisfied: transformers[ja] in /usr/local/lib/python3.9/dist-packages (4.28.1)\n",
            "Requirement already satisfied: tokenizers!=0.11.3,<0.14,>=0.11.1 in /usr/local/lib/python3.9/dist-packages (from transformers[ja]) (0.13.3)\n",
            "Requirement already satisfied: filelock in /usr/local/lib/python3.9/dist-packages (from transformers[ja]) (3.11.0)\n",
            "Requirement already satisfied: requests in /usr/local/lib/python3.9/dist-packages (from transformers[ja]) (2.27.1)\n",
            "Requirement already satisfied: tqdm>=4.27 in /usr/local/lib/python3.9/dist-packages (from transformers[ja]) (4.65.0)\n",
            "Requirement already satisfied: huggingface-hub<1.0,>=0.11.0 in /usr/local/lib/python3.9/dist-packages (from transformers[ja]) (0.13.4)\n",
            "Requirement already satisfied: numpy>=1.17 in /usr/local/lib/python3.9/dist-packages (from transformers[ja]) (1.22.4)\n",
            "Requirement already satisfied: regex!=2019.12.17 in /usr/local/lib/python3.9/dist-packages (from transformers[ja]) (2022.10.31)\n",
            "Requirement already satisfied: pyyaml>=5.1 in /usr/local/lib/python3.9/dist-packages (from transformers[ja]) (6.0)\n",
            "Requirement already satisfied: packaging>=20.0 in /usr/local/lib/python3.9/dist-packages (from transformers[ja]) (23.1)\n",
            "Requirement already satisfied: ipadic<2.0,>=1.0.0 in /usr/local/lib/python3.9/dist-packages (from transformers[ja]) (1.0.0)\n",
            "Requirement already satisfied: unidic-lite>=1.0.7 in /usr/local/lib/python3.9/dist-packages (from transformers[ja]) (1.0.8)\n",
            "Requirement already satisfied: sudachipy>=0.6.6 in /usr/local/lib/python3.9/dist-packages (from transformers[ja]) (0.6.7)\n",
            "Requirement already satisfied: fugashi>=1.0 in /usr/local/lib/python3.9/dist-packages (from transformers[ja]) (1.2.1)\n",
            "Requirement already satisfied: rhoknp>=1.1.0 in /usr/local/lib/python3.9/dist-packages (from transformers[ja]) (1.2.2)\n",
            "Requirement already satisfied: unidic>=1.0.2 in /usr/local/lib/python3.9/dist-packages (from transformers[ja]) (1.1.0)\n",
            "Requirement already satisfied: sudachidict-core>=20220729 in /usr/local/lib/python3.9/dist-packages (from transformers[ja]) (20230110)\n",
            "Requirement already satisfied: typing-extensions>=3.7.4.3 in /usr/local/lib/python3.9/dist-packages (from huggingface-hub<1.0,>=0.11.0->transformers[ja]) (4.5.0)\n",
            "Requirement already satisfied: wasabi<1.0.0,>=0.6.0 in /usr/local/lib/python3.9/dist-packages (from unidic>=1.0.2->transformers[ja]) (0.10.1)\n",
            "Requirement already satisfied: plac<2.0.0,>=1.1.3 in /usr/local/lib/python3.9/dist-packages (from unidic>=1.0.2->transformers[ja]) (1.3.5)\n",
            "Requirement already satisfied: urllib3<1.27,>=1.21.1 in /usr/local/lib/python3.9/dist-packages (from requests->transformers[ja]) (1.26.15)\n",
            "Requirement already satisfied: idna<4,>=2.5 in /usr/local/lib/python3.9/dist-packages (from requests->transformers[ja]) (3.4)\n",
            "Requirement already satisfied: certifi>=2017.4.17 in /usr/local/lib/python3.9/dist-packages (from requests->transformers[ja]) (2022.12.7)\n",
            "Requirement already satisfied: charset-normalizer~=2.0.0 in /usr/local/lib/python3.9/dist-packages (from requests->transformers[ja]) (2.0.12)\n"
          ]
        }
      ],
      "source": [
        "#@title ライブラリのセットアップ\n",
        "!pip install torch torchvision\n",
        "!pip install transformers[ja]\n"
      ]
    },
    {
      "cell_type": "code",
      "source": [
        "#@title BERTのセットアップ\n",
        "from transformers import pipeline, AutoModelForSequenceClassification, BertJapaneseTokenizer\n",
        "\n",
        "target = \"christian-phu/bert-finetuned-japanese-sentiment\" #@param [\"cl-tohoku/bert-base-japanese\", \"cl-tohoku/bert-base-japanese-v2\", \"cl-tohoku/bert-large-japanese\", \"christian-phu/bert-finetuned-japanese-sentiment\", \"minutillamolinara/bert-japanese_finetuned-sentiment-analysis\", \"kit-nlp/bert-base-japanese-sentiment-cyberbullying\"]\n",
        "\n",
        "# 感情分析の実行\n",
        "model = AutoModelForSequenceClassification.from_pretrained(target) \n",
        "tokenizer = BertJapaneseTokenizer.from_pretrained(target)\n",
        "nlp = pipeline(\"sentiment-analysis\",model=model,tokenizer=tokenizer)\n"
      ],
      "metadata": {
        "id": "V1558OWqK4zU"
      },
      "execution_count": 49,
      "outputs": []
    },
    {
      "cell_type": "code",
      "source": [
        "#@title トークン化と感情分析のデモ\n",
        "\n",
        "text = \"\\u30D7\\u30EA\\u30F3\\u306F\\u7F8E\\u5473\\u3057\\u3044\"#@param{type:\"string\"}\n",
        "\n",
        "print(tokenizer.convert_tokens_to_ids(tokenizer.tokenize(text)))\n",
        "\n",
        "print(nlp(text))"
      ],
      "metadata": {
        "colab": {
          "base_uri": "https://localhost:8080/"
        },
        "id": "BeQO5gFNN-jb",
        "outputId": "1c52dd2a-9e0b-4e12-a30f-6d2dcb349225"
      },
      "execution_count": 56,
      "outputs": [
        {
          "output_type": "stream",
          "name": "stdout",
          "text": [
            "[14008, 897, 24892, 11265]\n",
            "[{'label': 'positive', 'score': 0.9991697072982788}]\n"
          ]
        }
      ]
    },
    {
      "cell_type": "markdown",
      "source": [
        "LABEL_0 がポジティブ、LABEL_1がネガティブの判定"
      ],
      "metadata": {
        "id": "ivDQsOtgYxVd"
      }
    }
  ]
}